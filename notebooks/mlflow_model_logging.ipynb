{
 "cells": [
  {
   "cell_type": "code",
   "execution_count": 1,
   "metadata": {},
   "outputs": [],
   "source": [
    "import mlflow\n",
    "import pickle\n",
    "from random import random, randint\n",
    "import os\n",
    "\n",
    "with open('../artifacts/model.pkl', 'rb') as file:\n",
    "    model = pickle.load(file)\n",
    "\n",
    "with open('../artifacts/metrics.pkl', 'rb') as file:\n",
    "    metrics = pickle.load(file)\n",
    "\n",
    "with open('../artifacts/cat_features.pkl', 'rb') as file:\n",
    "    cat_features = pickle.load(file)\n",
    "\n",
    "from mlflow import log_metric, log_param, log_params, log_artifacts\n",
    "# mlflow.set_tracking_uri(\"http://13.60.52.87:5000/\")\n",
    "mlflow.set_tracking_uri(\"http://127.0.0.1:8080/\")\n",
    "\n",
    "artifacts_list = ['model.pkl', 'cat_features.pkl']\n",
    "with mlflow.start_run(run_name='catboost_experiment_run') as run:\n",
    "    mlflow.set_tag(\"User\", \"Shine Mohammed\")\n",
    "    mlflow.catboost.log_model(model, 'model')\n",
    "    mlflow.log_artifact('/Users/shine/Documents/projects/finetune_llama3_with_ORPO/artifacts/model.pkl')\n",
    "    mlflow.log_artifact('/Users/shine/Documents/projects/finetune_llama3_with_ORPO/artifacts/cat_features.pkl')\n",
    "    mlflow.log_metrics(metrics, synchronous = False)\n",
    "mlflow.end_run()"
   ]
  },
  {
   "cell_type": "code",
   "execution_count": null,
   "metadata": {},
   "outputs": [],
   "source": []
  },
  {
   "cell_type": "code",
   "execution_count": null,
   "metadata": {},
   "outputs": [
    {
     "data": {
      "text/plain": [
       "<function sklearn.metrics._regression.mean_squared_log_error(y_true, y_pred, *, sample_weight=None, multioutput='uniform_average', squared='deprecated')>"
      ]
     },
     "metadata": {},
     "output_type": "display_data"
    }
   ],
   "source": []
  }
 ],
 "metadata": {
  "kernelspec": {
   "display_name": "development_env",
   "language": "python",
   "name": "python3"
  },
  "language_info": {
   "codemirror_mode": {
    "name": "ipython",
    "version": 3
   },
   "file_extension": ".py",
   "mimetype": "text/x-python",
   "name": "python",
   "nbconvert_exporter": "python",
   "pygments_lexer": "ipython3",
   "version": "3.10.14"
  }
 },
 "nbformat": 4,
 "nbformat_minor": 2
}
