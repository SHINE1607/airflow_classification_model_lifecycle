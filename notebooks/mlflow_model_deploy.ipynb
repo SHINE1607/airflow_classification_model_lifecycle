{
 "cells": [
  {
   "cell_type": "code",
   "execution_count": 5,
   "metadata": {},
   "outputs": [
    {
     "name": "stderr",
     "output_type": "stream",
     "text": [
      "2024/05/08 11:50:35 INFO mlflow.store.model_registry.abstract_store: Waiting up to 300 seconds for model version to finish creation. Model name: catboost_model_test_registry, version 1\n"
     ]
    }
   ],
   "source": [
    "import mlflow\n",
    "from mlflow import MlflowClient\n",
    "\n",
    "def model_deploy(run_id):\n",
    "    mlflow.set_tracking_uri(\"http://127.0.0.1:8080/\")\n",
    "    client = MlflowClient()\n",
    "    client.create_registered_model(\"catboost_model_test_registry\")\n",
    "    run_id = '7e75c2a5a19641bcb98ef6f215b1f37e'\n",
    "    result = client.create_model_version(\n",
    "        name='catboost_model_test_registry', \n",
    "        source=f\"mlflow-artifacts:/0/{run_id}/artifacts/model.pkl\",\n",
    "        run_id=run_id,\n",
    "    )\n"
   ]
  },
  {
   "cell_type": "code",
   "execution_count": null,
   "metadata": {},
   "outputs": [],
   "source": []
  }
 ],
 "metadata": {
  "kernelspec": {
   "display_name": "development_env",
   "language": "python",
   "name": "python3"
  },
  "language_info": {
   "codemirror_mode": {
    "name": "ipython",
    "version": 3
   },
   "file_extension": ".py",
   "mimetype": "text/x-python",
   "name": "python",
   "nbconvert_exporter": "python",
   "pygments_lexer": "ipython3",
   "version": "3.10.14"
  }
 },
 "nbformat": 4,
 "nbformat_minor": 2
}
